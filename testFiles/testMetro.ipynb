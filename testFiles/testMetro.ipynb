{
 "cells": [
  {
   "cell_type": "code",
   "execution_count": 5,
   "metadata": {},
   "outputs": [],
   "source": [
    "from selenium import webdriver\n",
    "from bs4 import BeautifulSoup\n",
    "import pandas as pd\n",
    "import requests"
   ]
  },
  {
   "cell_type": "code",
   "execution_count": 30,
   "metadata": {},
   "outputs": [
    {
     "name": "stderr",
     "output_type": "stream",
     "text": [
      "C:\\Users\\julia\\AppData\\Local\\Temp\\ipykernel_22800\\22708522.py:1: DeprecationWarning: executable_path has been deprecated, please pass in a Service object\n",
      "  driver = webdriver.Chrome(\"/usr/lib/chromium-browser/chromedriver\")\n"
     ]
    },
    {
     "name": "stdout",
     "output_type": "stream",
     "text": [
      "--> Jabón en barra Protex macadamia x6und x110g c-u  // PROTEX // $ 24.390 // WebMetro\n",
      "\n",
      "----------------------------------------------------------------\n",
      "--> Jabon protex avena barra x6undx110gc-u  // PROTEX // $ 24.390 // WebMetro\n",
      "\n",
      "----------------------------------------------------------------\n",
      "--> Huevos AA rojos Cuisine&Co x30und  // CUISINE & CO NBE MP // $ 18.990 // WebMetro\n",
      "\n",
      "----------------------------------------------------------------\n",
      "--> Galletas club social original x2undx234gc-upr.esp.  // CLUB SOCIAL // $ 11.990 // WebMetro\n",
      "\n",
      "----------------------------------------------------------------\n",
      "--> Suavizante Suavitel Complete Lavanda x5L  // SUAVITEL // Precio Ahora$ 33.742 // WebMetro\n",
      "\n",
      "----------------------------------------------------------------\n",
      "--> Suavizante Aromatel fragancia manzana verde x2unds x2500ml  // AROMATEL // $ 39.590 // WebMetro\n",
      "\n",
      "----------------------------------------------------------------\n"
     ]
    }
   ],
   "source": [
    "\t\n",
    "driver = webdriver.Chrome(\"/usr/lib/chromium-browser/chromedriver\")\n",
    "data=[]\n",
    "url = 'https://www.tiendasmetro.co/supermercado'\n",
    "driver.get(url)\n",
    "content = driver.page_source\n",
    "with open('metrohtml.txt','w',encoding='utf-8') as d:\n",
    "    d.write(content)\n",
    "soup = BeautifulSoup(content)\n",
    "for product in soup.findAll('div', attrs={'class':\"vtex-search-result-3-x-galleryItem vtex-search-result-3-x-galleryItem--gallery-css vtex-search-result-3-x-galleryItem--normal vtex-search-result-3-x-galleryItem--gallery-css--normal vtex-search-result-3-x-galleryItem--grid vtex-search-result-3-x-galleryItem--gallery-css--grid pa4\"}):\n",
    "\n",
    "    name = product.find_all(class_=\"vtex-product-summary-2-x-productBrand vtex-product-summary-2-x-brandName t-body\")\n",
    "    price = product.find_all(class_=\"flex c-emphasis tiendasjumboqaio-metro-minicart-2-x-cencoPrice\")\n",
    "    brand = product.find_all(class_=\"vtex-product-summary-2-x-productBrandName\")\n",
    "    \n",
    "    for n in range(len(name)):\n",
    "        print('-->',name[n].text,'//',brand[n].text,'//',price[n].text,'// WebMetro')\n",
    "        data.append([name[n].text,brand[n].text,price[n].text,'WebMetro'])\n",
    "        print('\\n----------------------------------------------------------------')"
   ]
  },
  {
   "cell_type": "code",
   "execution_count": null,
   "metadata": {},
   "outputs": [],
   "source": []
  }
 ],
 "metadata": {
  "kernelspec": {
   "display_name": "Python 3",
   "language": "python",
   "name": "python3"
  },
  "language_info": {
   "codemirror_mode": {
    "name": "ipython",
    "version": 3
   },
   "file_extension": ".py",
   "mimetype": "text/x-python",
   "name": "python",
   "nbconvert_exporter": "python",
   "pygments_lexer": "ipython3",
   "version": "3.8.10"
  },
  "orig_nbformat": 4
 },
 "nbformat": 4,
 "nbformat_minor": 2
}
